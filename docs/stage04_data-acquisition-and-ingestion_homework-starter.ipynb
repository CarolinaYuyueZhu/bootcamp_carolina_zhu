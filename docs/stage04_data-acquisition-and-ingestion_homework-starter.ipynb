{
 "cells": [
  {
   "cell_type": "markdown",
   "id": "526b6355",
   "metadata": {},
   "source": [
    "# Homework Starter — Stage 04: Data Acquisition and Ingestion\n",
    "Name: \n",
    "Date: \n",
    "\n",
    "## Objectives\n",
    "- API ingestion with secrets in `.env`\n",
    "- Scrape a permitted public table\n",
    "- Validate and save raw data to `data/raw/`"
   ]
  },
  {
   "cell_type": "code",
   "execution_count": 27,
   "id": "16e75238",
   "metadata": {},
   "outputs": [
    {
     "name": "stdout",
     "output_type": "stream",
     "text": [
      "ALPHAVANTAGE_API_KEY loaded? False\n"
     ]
    }
   ],
   "source": [
    "import os, pathlib, datetime as dt\n",
    "import requests\n",
    "import pandas as pd\n",
    "from bs4 import BeautifulSoup\n",
    "from dotenv import load_dotenv\n",
    "\n",
    "# repo-aware paths (notebook lives in /notebooks)\n",
    "ROOT = pathlib.Path(\"..\").resolve()\n",
    "RAW  = ROOT / \"data\" / \"raw\"\n",
    "RAW.mkdir(parents=True, exist_ok=True)\n",
    "\n",
    "load_dotenv(ROOT / \".env\")\n",
    "print(\"ALPHAVANTAGE_API_KEY loaded?\", bool(os.getenv(\"ALPHAVANTAGE_API_KEY\")))"
   ]
  },
  {
   "cell_type": "markdown",
   "id": "660c3581",
   "metadata": {},
   "source": [
    "## Helpers (use or modify)"
   ]
  },
  {
   "cell_type": "code",
   "execution_count": 4,
   "id": "ac286518",
   "metadata": {},
   "outputs": [],
   "source": [
    "def ts():\n",
    "    return dt.datetime.now().strftime('%Y%m%d-%H%M%S')\n",
    "\n",
    "def save_csv(df: pd.DataFrame, prefix: str, **meta):\n",
    "    mid = '_'.join([f\"{k}-{v}\" for k,v in meta.items()])\n",
    "    path = RAW / f\"{prefix}_{mid}_{ts()}.csv\"\n",
    "    df.to_csv(path, index=False)\n",
    "    print('Saved', path)\n",
    "    return path\n",
    "\n",
    "def validate(df: pd.DataFrame, required):\n",
    "    missing = [c for c in required if c not in df.columns]\n",
    "    return {'missing': missing, 'shape': df.shape, 'na_total': int(df.isna().sum().sum())}"
   ]
  },
  {
   "cell_type": "markdown",
   "id": "a82a1eff",
   "metadata": {},
   "source": [
    "## Part 1 — API Pull (Required)\n",
    "Choose an endpoint (e.g., Alpha Vantage or use `yfinance` fallback)."
   ]
  },
  {
   "cell_type": "code",
   "execution_count": 33,
   "id": "14a6a5bc",
   "metadata": {},
   "outputs": [
    {
     "name": "stdout",
     "output_type": "stream",
     "text": [
      "Saved: /Users/yuyuezhu/bootcamp_carolina_zhu/data/raw/api_alphavantage_CME_20250820-1049.csv\n"
     ]
    },
    {
     "data": {
      "text/html": [
       "<div>\n",
       "<style scoped>\n",
       "    .dataframe tbody tr th:only-of-type {\n",
       "        vertical-align: middle;\n",
       "    }\n",
       "\n",
       "    .dataframe tbody tr th {\n",
       "        vertical-align: top;\n",
       "    }\n",
       "\n",
       "    .dataframe thead th {\n",
       "        text-align: right;\n",
       "    }\n",
       "</style>\n",
       "<table border=\"1\" class=\"dataframe\">\n",
       "  <thead>\n",
       "    <tr style=\"text-align: right;\">\n",
       "      <th></th>\n",
       "      <th>date</th>\n",
       "      <th>open</th>\n",
       "      <th>high</th>\n",
       "      <th>low</th>\n",
       "      <th>close</th>\n",
       "      <th>volume</th>\n",
       "    </tr>\n",
       "  </thead>\n",
       "  <tbody>\n",
       "    <tr>\n",
       "      <th>0</th>\n",
       "      <td>2025-03-27</td>\n",
       "      <td>263.265</td>\n",
       "      <td>264.3100</td>\n",
       "      <td>261.57</td>\n",
       "      <td>261.85</td>\n",
       "      <td>1892948</td>\n",
       "    </tr>\n",
       "    <tr>\n",
       "      <th>1</th>\n",
       "      <td>2025-03-28</td>\n",
       "      <td>262.560</td>\n",
       "      <td>263.8300</td>\n",
       "      <td>261.75</td>\n",
       "      <td>262.22</td>\n",
       "      <td>1736196</td>\n",
       "    </tr>\n",
       "    <tr>\n",
       "      <th>2</th>\n",
       "      <td>2025-03-31</td>\n",
       "      <td>262.710</td>\n",
       "      <td>265.7827</td>\n",
       "      <td>261.74</td>\n",
       "      <td>265.29</td>\n",
       "      <td>2414834</td>\n",
       "    </tr>\n",
       "    <tr>\n",
       "      <th>3</th>\n",
       "      <td>2025-04-01</td>\n",
       "      <td>263.985</td>\n",
       "      <td>264.6600</td>\n",
       "      <td>261.98</td>\n",
       "      <td>262.24</td>\n",
       "      <td>1972749</td>\n",
       "    </tr>\n",
       "    <tr>\n",
       "      <th>4</th>\n",
       "      <td>2025-04-02</td>\n",
       "      <td>263.650</td>\n",
       "      <td>265.5600</td>\n",
       "      <td>261.07</td>\n",
       "      <td>262.54</td>\n",
       "      <td>2064911</td>\n",
       "    </tr>\n",
       "  </tbody>\n",
       "</table>\n",
       "</div>"
      ],
      "text/plain": [
       "        date     open      high     low   close   volume\n",
       "0 2025-03-27  263.265  264.3100  261.57  261.85  1892948\n",
       "1 2025-03-28  262.560  263.8300  261.75  262.22  1736196\n",
       "2 2025-03-31  262.710  265.7827  261.74  265.29  2414834\n",
       "3 2025-04-01  263.985  264.6600  261.98  262.24  1972749\n",
       "4 2025-04-02  263.650  265.5600  261.07  262.54  2064911"
      ]
     },
     "execution_count": 33,
     "metadata": {},
     "output_type": "execute_result"
    }
   ],
   "source": [
    "import os\n",
    "from pathlib import Path\n",
    "from datetime import datetime\n",
    "import requests\n",
    "import pandas as pd\n",
    "from dotenv import load_dotenv\n",
    "load_dotenv() \n",
    "API_KEY = os.getenv(\"ALPHA_VANTAGE_KEY\")\n",
    "SYMBOL  = \"CME\"  \n",
    "\n",
    "assert API_KEY, \"Missing ALPHA_VANTAGE_KEY in .env\"\n",
    "\n",
    "ROOT = Path(\"..\").resolve()  \n",
    "RAW  = ROOT / \"data\" / \"raw\"\n",
    "RAW.mkdir(parents=True, exist_ok=True)\n",
    "\n",
    "# ---------- request ----------\n",
    "params = {\n",
    "    \"function\": \"TIME_SERIES_DAILY\",    \n",
    "    \"symbol\": SYMBOL,\n",
    "    \"outputsize\": \"compact\",\n",
    "    \"apikey\": API_KEY,\n",
    "}\n",
    "\n",
    "resp = requests.get(\"https://www.alphavantage.co/query\", params=params, timeout=30)\n",
    "resp.raise_for_status()\n",
    "data = resp.json()\n",
    "\n",
    "# Handle API errors / throttling messages\n",
    "if \"Error Message\" in data:\n",
    "    raise RuntimeError(f\"Alpha Vantage error: {data['Error Message']}\")\n",
    "if \"Note\" in data:\n",
    "    raise RuntimeError(f\"Alpha Vantage notice (likely rate limit): {data['Note']}\")\n",
    "\n",
    "ts_key = \"Time Series (Daily)\"\n",
    "assert ts_key in data, f\"Unexpected response keys: {list(data.keys())}\"\n",
    "\n",
    "# ---------- normalize ----------\n",
    "df_api = pd.DataFrame(data[ts_key]).T\n",
    "df_api.index.name = \"date\"\n",
    "df_api = df_api.rename(columns={\n",
    "    \"1. open\": \"open\",\n",
    "    \"2. high\": \"high\",\n",
    "    \"3. low\":  \"low\",\n",
    "    \"4. close\": \"close\",\n",
    "    \"5. volume\": \"volume\",\n",
    "})\n",
    "\n",
    "# types + sort\n",
    "num_cols = [\"open\", \"high\", \"low\", \"close\", \"volume\"]\n",
    "df_api[num_cols] = df_api[num_cols].apply(pd.to_numeric, errors=\"coerce\")\n",
    "df_api = df_api.reset_index()\n",
    "df_api[\"date\"] = pd.to_datetime(df_api[\"date\"])\n",
    "df_api = df_api.sort_values(\"date\").reset_index(drop=True)\n",
    "\n",
    "# ---------- validate ----------\n",
    "assert not df_api.empty, \"API returned empty dataset — check symbol or connectivity\"\n",
    "assert set(num_cols).issubset(df_api.columns), f\"Missing cols: {set(num_cols) - set(df_api.columns)}\"\n",
    "\n",
    "# ---------- save ----------\n",
    "timestamp = datetime.now().strftime(\"%Y%m%d-%H%M\")\n",
    "out_path = RAW / f\"api_alphavantage_{SYMBOL}_{timestamp}.csv\"\n",
    "df_api.to_csv(out_path, index=False)\n",
    "print(\"Saved:\", out_path.as_posix())\n",
    "\n",
    "df_api.head()"
   ]
  },
  {
   "cell_type": "code",
   "execution_count": 35,
   "id": "7b321385",
   "metadata": {},
   "outputs": [
    {
     "name": "stdout",
     "output_type": "stream",
     "text": [
      "Saved data/raw/api_source-yfinance_symbol-CME_20250820-104939.csv\n"
     ]
    }
   ],
   "source": [
    "_ = save_csv(df_api.sort_values('date'), prefix='api', source='alpha' if USE_ALPHA else 'yfinance', symbol=SYMBOL)"
   ]
  },
  {
   "cell_type": "markdown",
   "id": "1ad363b1",
   "metadata": {},
   "source": [
    "## Part 2 — Scrape a Public Table (Required)\n",
    "Replace `SCRAPE_URL` with a permitted page containing a simple table."
   ]
  },
  {
   "cell_type": "code",
   "execution_count": 37,
   "id": "640622a4",
   "metadata": {},
   "outputs": [
    {
     "data": {
      "text/plain": [
       "{'missing': [], 'shape': (880, 8), 'na_total': 758}"
      ]
     },
     "execution_count": 37,
     "metadata": {},
     "output_type": "execute_result"
    }
   ],
   "source": [
    "SCRAPE_URL = \"https://en.wikipedia.org/wiki/List_of_S%26P_500_companies\"  # TODO: replace with permitted page\n",
    "headers = {'User-Agent':'AFE-Homework/1.0'}\n",
    "try:\n",
    "    resp = requests.get(SCRAPE_URL, headers=headers, timeout=30); resp.raise_for_status()\n",
    "    soup = BeautifulSoup(resp.text, 'html.parser')\n",
    "    rows = [[c.get_text(strip=True) for c in tr.find_all(['th','td'])] for tr in soup.find_all('tr')]\n",
    "    header, *data = [r for r in rows if r]\n",
    "    df_scrape = pd.DataFrame(data, columns=header)\n",
    "except Exception as e:\n",
    "    print('Scrape failed, using inline demo table:', e)\n",
    "    html = '<table><tr><th>Ticker</th><th>Price</th></tr><tr><td>AAA</td><td>101.2</td></tr></table>'\n",
    "    soup = BeautifulSoup(html, 'html.parser')\n",
    "    rows = [[c.get_text(strip=True) for c in tr.find_all(['th','td'])] for tr in soup.find_all('tr')]\n",
    "    header, *data = [r for r in rows if r]\n",
    "    df_scrape = pd.DataFrame(data, columns=header)\n",
    "\n",
    "if 'Price' in df_scrape.columns:\n",
    "    df_scrape['Price'] = pd.to_numeric(df_scrape['Price'], errors='coerce')\n",
    "v_scrape = validate(df_scrape, list(df_scrape.columns)); v_scrape"
   ]
  },
  {
   "cell_type": "code",
   "execution_count": 39,
   "id": "e522f911",
   "metadata": {},
   "outputs": [
    {
     "name": "stdout",
     "output_type": "stream",
     "text": [
      "Saved data/raw/scrape_site-example_table-markets_20250820-104942.csv\n"
     ]
    }
   ],
   "source": [
    "_ = save_csv(df_scrape, prefix='scrape', site='example', table='markets')"
   ]
  },
  {
   "cell_type": "code",
   "execution_count": 41,
   "id": "6e525870-2cd0-4114-8d87-62badd686da0",
   "metadata": {},
   "outputs": [
    {
     "name": "stdout",
     "output_type": "stream",
     "text": [
      "NXBOIYEVYFLYJQ2T\n"
     ]
    }
   ],
   "source": [
    "import os\n",
    "from dotenv import load_dotenv\n",
    "\n",
    "load_dotenv()\n",
    "print(os.getenv(\"ALPHA_VANTAGE_KEY\"))\n"
   ]
  },
  {
   "cell_type": "markdown",
   "id": "c7461b4c",
   "metadata": {},
   "source": [
    "## Documentation\n",
    "- API Source: (URL/endpoint/params)\n",
    "- Scrape Source: (URL/table description)\n",
    "- Assumptions & risks: (rate limits, selector fragility, schema changes)\n",
    "- Confirm `.env` is not committed."
   ]
  }
 ],
 "metadata": {
  "kernelspec": {
   "display_name": "Python 3 (ipykernel)",
   "language": "python",
   "name": "python3"
  },
  "language_info": {
   "codemirror_mode": {
    "name": "ipython",
    "version": 3
   },
   "file_extension": ".py",
   "mimetype": "text/x-python",
   "name": "python",
   "nbconvert_exporter": "python",
   "pygments_lexer": "ipython3",
   "version": "3.12.2"
  }
 },
 "nbformat": 4,
 "nbformat_minor": 5
}
