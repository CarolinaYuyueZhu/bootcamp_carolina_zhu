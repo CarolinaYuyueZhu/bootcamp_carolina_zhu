{
 "cells": [
  {
   "cell_type": "markdown",
   "id": "c842b0a2",
   "metadata": {},
   "source": [
    "# Homework Starter — Stage 10b: Time Series & Classification\n",
    "Fill in the TODOs. Use your own dataset or adapt the synthetic generator below."
   ]
  },
  {
   "cell_type": "code",
   "execution_count": 46,
   "id": "df9e032c",
   "metadata": {},
   "outputs": [
    {
     "name": "stdout",
     "output_type": "stream",
     "text": [
      "Requirement already satisfied: requests in /opt/miniconda3/envs/mlenv/lib/python3.11/site-packages (2.32.5)\n",
      "Requirement already satisfied: beautifulsoup4 in /opt/miniconda3/envs/mlenv/lib/python3.11/site-packages (4.13.5)\n",
      "Requirement already satisfied: python-dotenv in /opt/miniconda3/envs/mlenv/lib/python3.11/site-packages (1.1.1)\n",
      "Requirement already satisfied: pandas in /opt/miniconda3/envs/mlenv/lib/python3.11/site-packages (2.3.2)\n",
      "Requirement already satisfied: charset_normalizer<4,>=2 in /opt/miniconda3/envs/mlenv/lib/python3.11/site-packages (from requests) (3.4.3)\n",
      "Requirement already satisfied: idna<4,>=2.5 in /opt/miniconda3/envs/mlenv/lib/python3.11/site-packages (from requests) (3.10)\n",
      "Requirement already satisfied: urllib3<3,>=1.21.1 in /opt/miniconda3/envs/mlenv/lib/python3.11/site-packages (from requests) (2.5.0)\n",
      "Requirement already satisfied: certifi>=2017.4.17 in /opt/miniconda3/envs/mlenv/lib/python3.11/site-packages (from requests) (2025.8.3)\n",
      "Requirement already satisfied: soupsieve>1.2 in /opt/miniconda3/envs/mlenv/lib/python3.11/site-packages (from beautifulsoup4) (2.7)\n",
      "Requirement already satisfied: typing-extensions>=4.0.0 in /opt/miniconda3/envs/mlenv/lib/python3.11/site-packages (from beautifulsoup4) (4.14.1)\n",
      "Requirement already satisfied: numpy>=1.23.2 in /opt/miniconda3/envs/mlenv/lib/python3.11/site-packages (from pandas) (2.3.2)\n",
      "Requirement already satisfied: python-dateutil>=2.8.2 in /opt/miniconda3/envs/mlenv/lib/python3.11/site-packages (from pandas) (2.9.0.post0)\n",
      "Requirement already satisfied: pytz>=2020.1 in /opt/miniconda3/envs/mlenv/lib/python3.11/site-packages (from pandas) (2025.2)\n",
      "Requirement already satisfied: tzdata>=2022.7 in /opt/miniconda3/envs/mlenv/lib/python3.11/site-packages (from pandas) (2025.2)\n",
      "Requirement already satisfied: six>=1.5 in /opt/miniconda3/envs/mlenv/lib/python3.11/site-packages (from python-dateutil>=2.8.2->pandas) (1.17.0)\n"
     ]
    }
   ],
   "source": [
    "# Imports\n",
    "\n",
    "import sys\n",
    "!{sys.executable} -m pip install -U requests beautifulsoup4 python-dotenv pandas\n",
    "\n",
    "import os, pathlib, datetime as dt\n",
    "import requests\n",
    "import pandas as pd\n",
    "from bs4 import BeautifulSoup\n",
    "from dotenv import load_dotenv\n",
    "import numpy as np, pandas as pd\n",
    "import matplotlib.pyplot as plt\n",
    "import seaborn as sns\n",
    "from sklearn.pipeline import Pipeline, make_pipeline\n",
    "from sklearn.preprocessing import StandardScaler\n",
    "from sklearn.linear_model import LinearRegression, LogisticRegression\n",
    "from sklearn.tree import DecisionTreeClassifier\n",
    "from sklearn.metrics import mean_absolute_error, mean_squared_error, classification_report, confusion_matrix\n",
    "from sklearn.model_selection import train_test_split, TimeSeriesSplit\n",
    "np.random.seed(7); sns.set(); plt.rcParams['figure.figsize']=(9,4)"
   ]
  },
  {
   "cell_type": "markdown",
   "id": "6e38e47a",
   "metadata": {},
   "source": [
    "## Option A: Use Your Own Data (Recommended)\n",
    "Load your data here (ensure a DateTime index for time series)."
   ]
  },
  {
   "cell_type": "code",
   "execution_count": 48,
   "id": "63aae3f8-c053-43ef-8bcb-53b37b7847ec",
   "metadata": {},
   "outputs": [
    {
     "name": "stdout",
     "output_type": "stream",
     "text": [
      "Saved: /Users/yuyuezhu/bootcamp_carolina_zhu/project/data/raw/api_alphavantage_CME_20250826-1943.csv\n"
     ]
    }
   ],
   "source": [
    "import os\n",
    "from pathlib import Path\n",
    "from datetime import datetime\n",
    "import requests\n",
    "import pandas as pd\n",
    "from dotenv import load_dotenv\n",
    "load_dotenv() \n",
    "API_KEY = os.getenv(\"ALPHA_VANTAGE_KEY\")\n",
    "SYMBOL  = \"CME\"  \n",
    "\n",
    "assert API_KEY, \"Missing ALPHA_VANTAGE_KEY in .env\"\n",
    "    \n",
    "ROOT = Path(\"..\").resolve()  \n",
    "RAW  = ROOT / \"data\" / \"raw\"\n",
    "RAW.mkdir(parents=True, exist_ok=True)\n",
    "\n",
    "# ---------- request ----------\n",
    "params = {\n",
    "    \"function\": \"TIME_SERIES_DAILY\",    \n",
    "    \"symbol\": SYMBOL,\n",
    "    \"outputsize\": \"compact\",\n",
    "    \"apikey\": API_KEY,\n",
    "}\n",
    "\n",
    "resp = requests.get(\"https://www.alphavantage.co/query\", params=params, timeout=30)\n",
    "resp.raise_for_status()\n",
    "data = resp.json()\n",
    "\n",
    "# Handle API errors / throttling messages\n",
    "if \"Error Message\" in data:\n",
    "    raise RuntimeError(f\"Alpha Vantage error: {data['Error Message']}\")\n",
    "if \"Note\" in data:\n",
    "    raise RuntimeError(f\"Alpha Vantage notice (likely rate limit): {data['Note']}\")\n",
    "\n",
    "ts_key = \"Time Series (Daily)\"\n",
    "assert ts_key in data, f\"Unexpected response keys: {list(data.keys())}\"\n",
    "\n",
    "# ---------- normalize ----------\n",
    "df_api = pd.DataFrame(data[ts_key]).T\n",
    "df_api.index.name = \"date\"\n",
    "df_api = df_api.rename(columns={\n",
    "    \"1. open\": \"open\",\n",
    "    \"2. high\": \"high\",\n",
    "    \"3. low\":  \"low\",\n",
    "    \"4. close\": \"close\",\n",
    "    \"5. volume\": \"volume\",\n",
    "})\n",
    "\n",
    "# types + sort\n",
    "num_cols = [\"open\", \"high\", \"low\", \"close\", \"volume\"]\n",
    "df_api[num_cols] = df_api[num_cols].apply(pd.to_numeric, errors=\"coerce\")\n",
    "df_api = df_api.reset_index()\n",
    "df_api[\"date\"] = pd.to_datetime(df_api[\"date\"])\n",
    "df_api = df_api.sort_values(\"date\").reset_index(drop=True)\n",
    "\n",
    "# ---------- validate ----------\n",
    "assert not df_api.empty, \"API returned empty dataset — check symbol or connectivity\"\n",
    "assert set(num_cols).issubset(df_api.columns), f\"Missing cols: {set(num_cols) - set(df_api.columns)}\"\n",
    "\n",
    "# ---------- save ----------\n",
    "timestamp = datetime.now().strftime(\"%Y%m%d-%H%M\")\n",
    "out_path = RAW / f\"api_alphavantage_{SYMBOL}_{timestamp}.csv\"\n",
    "df_api.to_csv(out_path, index=False)\n",
    "print(\"Saved:\", out_path.as_posix())\n",
    "\n",
    "df=df_api\n"
   ]
  },
  {
   "cell_type": "markdown",
   "id": "edbf5f2b",
   "metadata": {},
   "source": [
    "## Option B: Synthetic Generator (Use if you don't have data ready)"
   ]
  },
  {
   "cell_type": "markdown",
   "id": "20dcac2d",
   "metadata": {},
   "source": [
    "## Feature Engineering"
   ]
  },
  {
   "cell_type": "code",
   "execution_count": 50,
   "id": "38d74029",
   "metadata": {},
   "outputs": [],
   "source": [
    "df = df.copy()\n",
    "df['return'] = df['close'].pct_change()\n",
    "\n",
    "# Features\n",
    "df['lag_1'] = df['return'].shift(1)\n",
    "df['roll_mean_5'] = df['return'].rolling(5).mean().shift(1)\n",
    "df['roll_vol_5'] = df['return'].rolling(5).std().shift(1)\n",
    "\n",
    "# Target\n",
    "df['y_next_ret'] = df['return'].shift(-1)\n",
    "df['y_up'] = (df['y_next_ret'] > 0).astype(int)\n",
    "\n",
    "df_feat = df.dropna().copy()"
   ]
  },
  {
   "cell_type": "markdown",
   "id": "4d1b8296",
   "metadata": {},
   "source": [
    "## Split"
   ]
  },
  {
   "cell_type": "code",
   "execution_count": 52,
   "id": "3f764acd",
   "metadata": {},
   "outputs": [],
   "source": [
    "cut = int(len(df_feat) * 0.8)\n",
    "train, test = df_feat.iloc[:cut], df_feat.iloc[cut:]\n",
    "\n",
    "features = ['lag_1', 'roll_mean_5', 'roll_vol_5']\n",
    "\n",
    "X_tr, X_te = train[features], test[features]\n",
    "y_tr_reg, y_te_reg = train['y_next_ret'], test['y_next_ret']   # regression target\n",
    "y_tr_clf, y_te_clf = train['y_up'], test['y_up']               # classification target"
   ]
  },
  {
   "cell_type": "markdown",
   "id": "e99925f3",
   "metadata": {},
   "source": [
    "## Pipeline + Model (Choose one track below)"
   ]
  },
  {
   "cell_type": "code",
   "execution_count": 58,
   "id": "9a4ed71a-1524-4b87-93f5-a5aebe8f1cde",
   "metadata": {},
   "outputs": [
    {
     "name": "stdout",
     "output_type": "stream",
     "text": [
      "Regression RMSE: 0.012949941849827628\n",
      "Regression R²: -0.14118011653495355\n"
     ]
    }
   ],
   "source": [
    "from sklearn.pipeline import Pipeline\n",
    "from sklearn.preprocessing import StandardScaler\n",
    "from sklearn.linear_model import LinearRegression\n",
    "from sklearn.metrics import mean_squared_error, r2_score\n",
    "import numpy as np\n",
    "\n",
    "# define pipeline\n",
    "reg = Pipeline([\n",
    "    ('scaler', StandardScaler()),\n",
    "    ('linreg', LinearRegression())\n",
    "])\n",
    "\n",
    "# fit and predict\n",
    "reg.fit(X_tr, y_tr_reg)\n",
    "pred = reg.predict(X_te)\n",
    "\n",
    "# evaluation\n",
    "mse = mean_squared_error(y_te_reg, pred)   # old API: no 'squared'\n",
    "rmse = np.sqrt(mse)                        # RMSE = sqrt(MSE)\n",
    "r2 = r2_score(y_te_reg, pred)\n",
    "\n",
    "print(\"Regression RMSE:\", rmse)\n",
    "print(\"Regression R²:\", r2)\n"
   ]
  },
  {
   "cell_type": "code",
   "execution_count": 56,
   "id": "0be25c38",
   "metadata": {},
   "outputs": [
    {
     "name": "stdout",
     "output_type": "stream",
     "text": [
      "              precision    recall  f1-score   support\n",
      "\n",
      "           0       0.00      0.00      0.00         9\n",
      "           1       0.40      0.60      0.48        10\n",
      "\n",
      "    accuracy                           0.32        19\n",
      "   macro avg       0.20      0.30      0.24        19\n",
      "weighted avg       0.21      0.32      0.25        19\n",
      "\n"
     ]
    },
    {
     "data": {
      "image/png": "[encoded data removed]",
      "text/plain": [
       "<Figure size 900x400 with 2 Axes>"
      ]
     },
     "metadata": {},
     "output_type": "display_data"
    }
   ],
   "source": [
    "from sklearn.linear_model import LogisticRegression\n",
    "from sklearn.metrics import classification_report, confusion_matrix\n",
    "import seaborn as sns\n",
    "import matplotlib.pyplot as plt\n",
    "\n",
    "clf = Pipeline([\n",
    "    ('scaler', StandardScaler()),\n",
    "    ('logit', LogisticRegression(max_iter=1000))\n",
    "])\n",
    "\n",
    "clf.fit(X_tr, y_tr_clf)\n",
    "predc = clf.predict(X_te)\n",
    "\n",
    "print(classification_report(y_te_clf, predc))\n",
    "cm = confusion_matrix(y_te_clf, predc)\n",
    "sns.heatmap(cm, annot=True, fmt='d', cmap='Blues')\n",
    "plt.title(\"Confusion Matrix\")\n",
    "plt.show()\n"
   ]
  },
  {
   "cell_type": "markdown",
   "id": "711b19d2-3e8a-41d8-a9c2-26acf94957fd",
   "metadata": {},
   "source": [
    "## Residual or prediction error analysis\n",
    "- The logistic regression classifier struggled to distinguish between the two classes. Precision, recall, and F1-score for class 0 are all 0.00, showing the model completely failed to identify that class. For class 1, recall is moderate at 0.60, but precision is low at 0.40, indicating the model leaned heavily toward predicting class 1. The overall accuracy of 0.32 is only slightly above random guessing, suggesting the model is not capturing meaningful signals from the features.\n",
    "\n",
    "## Explanation of Key Modeling Assumptions\n",
    "- Linearity in log-odds: Logistic regression assumes a linear relationship between predictors and the log-odds of the target. Given the poor performance, this assumption may not hold for the dataset.\n",
    "\n",
    "- Balanced classes: The dataset is small and imbalanced (9 vs 10 observations), which could amplify errors and bias predictions toward the majority or easier class.\n",
    "\n",
    "- Independence: Observations may have temporal dependencies (since this is financial data), violating the independence assumption of logistic regression."
   ]
  }
 ],
 "metadata": {
  "kernelspec": {
   "display_name": "Python 3.11 (mlenv)",
   "language": "python",
   "name": "mlenv"
  },
  "language_info": {
   "codemirror_mode": {
    "name": "ipython",
    "version": 3
   },
   "file_extension": ".py",
   "mimetype": "text/x-python",
   "name": "python",
   "nbconvert_exporter": "python",
   "pygments_lexer": "ipython3",
   "version": "3.11.13"
  }
 },
 "nbformat": 4,
 "nbformat_minor": 5
}
