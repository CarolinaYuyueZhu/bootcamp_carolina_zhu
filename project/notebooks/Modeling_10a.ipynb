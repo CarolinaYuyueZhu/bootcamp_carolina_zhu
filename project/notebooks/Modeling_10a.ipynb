{
 "cells": [
  {
   "cell_type": "markdown",
   "id": "25188228-63e3-4fe3-8b0d-33b6a28ff4b2",
   "metadata": {},
   "source": [
    "# Modeling\n",
    "\n",
    "Regression model"
   ]
  },
  {
   "cell_type": "code",
   "execution_count": 45,
   "id": "1ba62c03",
   "metadata": {},
   "outputs": [
    {
     "name": "stdout",
     "output_type": "stream",
     "text": [
      "Requirement already satisfied: requests in /opt/miniconda3/envs/mlenv/lib/python3.11/site-packages (2.32.5)\n",
      "Requirement already satisfied: beautifulsoup4 in /opt/miniconda3/envs/mlenv/lib/python3.11/site-packages (4.13.5)\n",
      "Requirement already satisfied: python-dotenv in /opt/miniconda3/envs/mlenv/lib/python3.11/site-packages (1.1.1)\n",
      "Requirement already satisfied: pandas in /opt/miniconda3/envs/mlenv/lib/python3.11/site-packages (2.3.2)\n",
      "Requirement already satisfied: charset_normalizer<4,>=2 in /opt/miniconda3/envs/mlenv/lib/python3.11/site-packages (from requests) (3.4.3)\n",
      "Requirement already satisfied: idna<4,>=2.5 in /opt/miniconda3/envs/mlenv/lib/python3.11/site-packages (from requests) (3.10)\n",
      "Requirement already satisfied: urllib3<3,>=1.21.1 in /opt/miniconda3/envs/mlenv/lib/python3.11/site-packages (from requests) (2.5.0)\n",
      "Requirement already satisfied: certifi>=2017.4.17 in /opt/miniconda3/envs/mlenv/lib/python3.11/site-packages (from requests) (2025.8.3)\n",
      "Requirement already satisfied: soupsieve>1.2 in /opt/miniconda3/envs/mlenv/lib/python3.11/site-packages (from beautifulsoup4) (2.7)\n",
      "Requirement already satisfied: typing-extensions>=4.0.0 in /opt/miniconda3/envs/mlenv/lib/python3.11/site-packages (from beautifulsoup4) (4.14.1)\n",
      "Requirement already satisfied: numpy>=1.23.2 in /opt/miniconda3/envs/mlenv/lib/python3.11/site-packages (from pandas) (2.3.2)\n",
      "Requirement already satisfied: python-dateutil>=2.8.2 in /opt/miniconda3/envs/mlenv/lib/python3.11/site-packages (from pandas) (2.9.0.post0)\n",
      "Requirement already satisfied: pytz>=2020.1 in /opt/miniconda3/envs/mlenv/lib/python3.11/site-packages (from pandas) (2025.2)\n",
      "Requirement already satisfied: tzdata>=2022.7 in /opt/miniconda3/envs/mlenv/lib/python3.11/site-packages (from pandas) (2025.2)\n",
      "Requirement already satisfied: six>=1.5 in /opt/miniconda3/envs/mlenv/lib/python3.11/site-packages (from python-dateutil>=2.8.2->pandas) (1.17.0)\n"
     ]
    }
   ],
   "source": [
    "# Imports\n",
    "import sys\n",
    "!{sys.executable} -m pip install -U requests beautifulsoup4 python-dotenv pandas\n",
    "import numpy as np\n",
    "\n",
    "import pandas as pd\n",
    "import matplotlib.pyplot as plt\n",
    "import seaborn as sns\n",
    "from sklearn.linear_model import LinearRegression\n",
    "from sklearn.metrics import r2_score, mean_squared_error\n",
    "from sklearn.model_selection import train_test_split\n",
    "import scipy.stats as st\n",
    "\n",
    "sns.set()\n",
    "np.random.seed(7)"
   ]
  },
  {
   "cell_type": "code",
   "execution_count": 59,
   "id": "5b617acb-5248-4dda-9bb8-c6adbaab3c52",
   "metadata": {},
   "outputs": [
    {
     "name": "stdout",
     "output_type": "stream",
     "text": [
      "Saved: /Users/yuyuezhu/bootcamp_carolina_zhu/project/data/raw/api_alphavantage_CME_20250826-1929.csv\n"
     ]
    }
   ],
   "source": [
    "import os\n",
    "from pathlib import Path\n",
    "from datetime import datetime\n",
    "import requests\n",
    "import pandas as pd\n",
    "from dotenv import load_dotenv\n",
    "load_dotenv() \n",
    "API_KEY = os.getenv(\"ALPHA_VANTAGE_KEY\")\n",
    "SYMBOL  = \"CME\"  \n",
    "\n",
    "assert API_KEY, \"Missing ALPHA_VANTAGE_KEY in .env\"\n",
    "    \n",
    "ROOT = Path(\"..\").resolve()  \n",
    "RAW  = ROOT / \"data\" / \"raw\"\n",
    "RAW.mkdir(parents=True, exist_ok=True)\n",
    "\n",
    "# ---------- request ----------\n",
    "params = {\n",
    "    \"function\": \"TIME_SERIES_DAILY\",    \n",
    "    \"symbol\": SYMBOL,\n",
    "    \"outputsize\": \"compact\",\n",
    "    \"apikey\": API_KEY,\n",
    "}\n",
    "\n",
    "resp = requests.get(\"https://www.alphavantage.co/query\", params=params, timeout=30)\n",
    "resp.raise_for_status()\n",
    "data = resp.json()\n",
    "\n",
    "# Handle API errors / throttling messages\n",
    "if \"Error Message\" in data:\n",
    "    raise RuntimeError(f\"Alpha Vantage error: {data['Error Message']}\")\n",
    "if \"Note\" in data:\n",
    "    raise RuntimeError(f\"Alpha Vantage notice (likely rate limit): {data['Note']}\")\n",
    "\n",
    "ts_key = \"Time Series (Daily)\"\n",
    "assert ts_key in data, f\"Unexpected response keys: {list(data.keys())}\"\n",
    "\n",
    "# ---------- normalize ----------\n",
    "df_api = pd.DataFrame(data[ts_key]).T\n",
    "df_api.index.name = \"date\"\n",
    "df_api = df_api.rename(columns={\n",
    "    \"1. open\": \"open\",\n",
    "    \"2. high\": \"high\",\n",
    "    \"3. low\":  \"low\",\n",
    "    \"4. close\": \"close\",\n",
    "    \"5. volume\": \"volume\",\n",
    "})\n",
    "\n",
    "# types + sort\n",
    "num_cols = [\"open\", \"high\", \"low\", \"close\", \"volume\"]\n",
    "df_api[num_cols] = df_api[num_cols].apply(pd.to_numeric, errors=\"coerce\")\n",
    "df_api = df_api.reset_index()\n",
    "df_api[\"date\"] = pd.to_datetime(df_api[\"date\"])\n",
    "df_api = df_api.sort_values(\"date\").reset_index(drop=True)\n",
    "\n",
    "# ---------- validate ----------\n",
    "assert not df_api.empty, \"API returned empty dataset — check symbol or connectivity\"\n",
    "assert set(num_cols).issubset(df_api.columns), f\"Missing cols: {set(num_cols) - set(df_api.columns)}\"\n",
    "\n",
    "# ---------- save ----------\n",
    "timestamp = datetime.now().strftime(\"%Y%m%d-%H%M\")\n",
    "out_path = RAW / f\"api_alphavantage_{SYMBOL}_{timestamp}.csv\"\n",
    "df_api.to_csv(out_path, index=False)\n",
    "print(\"Saved:\", out_path.as_posix())\n",
    "\n",
    "df = df_api"
   ]
  },
  {
   "cell_type": "markdown",
   "id": "79900c22-a2c0-4baf-bf48-9d199760d676",
   "metadata": {},
   "source": [
    "## Data, Train/ Split and build a regression model\n",
    "Follow the steps; replace `df` with your project DataFrame when ready."
   ]
  },
  {
   "cell_type": "code",
   "execution_count": 61,
   "id": "bf83ae46",
   "metadata": {},
   "outputs": [],
   "source": [
    "# Assume df already exists with columns: date, open, high, low, close, volume\n",
    "df = df.sort_values('date').reset_index(drop=True)\n",
    "\n",
    "# --- Simple engineered features ---\n",
    "df['daily_return'] = df['close'].pct_change()\n",
    "df['price_range'] = df['high'] - df['low']\n",
    "df['oc_diff'] = df['close'] - df['open']\n",
    "df['close_ma_5'] = df['close'].rolling(5).mean()\n",
    "df['volume_ma_5'] = df['volume'].rolling(5).mean()\n",
    "\n",
    "# shift target: predict next day's close\n",
    "df['target_close'] = df['close'].shift(-1)\n",
    "\n",
    "# drop rows with NaN\n",
    "df = df.dropna().reset_index(drop=True)"
   ]
  },
  {
   "cell_type": "code",
   "execution_count": 29,
   "id": "d63f1d1d",
   "metadata": {},
   "outputs": [
    {
     "name": "stdout",
     "output_type": "stream",
     "text": [
      "R²: 1.0\n",
      "RMSE: 3.544809967833791e-14\n"
     ]
    }
   ],
   "source": [
    "# Train/Test Split\n",
    "from sklearn.linear_model import LinearRegression\n",
    "from sklearn.model_selection import train_test_split\n",
    "from sklearn.metrics import mean_squared_error, r2_score\n",
    "import numpy as np\n",
    "\n",
    "# 1. Prepare features + target\n",
    "features = ['open','high','low','close','volume']   # add engineered ones if you like\n",
    "X = df[features]\n",
    "y = df['close'].shift(-1)   # predict next day’s close\n",
    "df_model = pd.concat([X, y], axis=1).dropna()\n",
    "X = df_model[features]\n",
    "y = df_model['close']\n",
    "\n",
    "# 2. Split train/test\n",
    "X_train, X_test, y_train, y_test = train_test_split(X, y, test_size=0.2, shuffle=False)\n",
    "\n",
    "# 3. Fit model\n",
    "lr = LinearRegression()\n",
    "lr.fit(X_train, y_train)\n",
    "\n",
    "# 4. Predict\n",
    "y_pred = lr.predict(X_test)\n",
    "\n",
    "# 5. Metrics\n",
    "r2 = r2_score(y_test, y_pred)\n",
    "mse = mean_squared_error(y_test, y_pred)   # no 'squared' kw in your version\n",
    "rmse = np.sqrt(mse)\n",
    "\n",
    "print(\"R²:\", r2)\n",
    "print(\"RMSE:\", rmse)\n"
   ]
  },
  {
   "cell_type": "code",
   "execution_count": 63,
   "id": "7290f6b1-c573-4394-9eae-7276d233c90c",
   "metadata": {},
   "outputs": [
    {
     "data": {
      "image/png": "[encoded data removed]",
      "text/plain": [
       "<Figure size 600x400 with 1 Axes>"
      ]
     },
     "metadata": {},
     "output_type": "display_data"
    },
    {
     "data": {
      "image/png": "[encoded data removed]",
      "text/plain": [
       "<Figure size 600x400 with 1 Axes>"
      ]
     },
     "metadata": {},
     "output_type": "display_data"
    }
   ],
   "source": [
    "# Residual Diagnostic\n",
    "resid = y_test - y_pred\n",
    "fitted = y_pred\n",
    "\n",
    "plt.figure(figsize=(6,4))\n",
    "plt.scatter(fitted, resid)\n",
    "plt.axhline(0, color='red', linestyle='--')\n",
    "plt.title(\"Residuals vs Fitted\")\n",
    "plt.xlabel(\"Fitted values\"); plt.ylabel(\"Residuals\")\n",
    "plt.show()\n",
    "\n",
    "plt.figure(figsize=(6,4))\n",
    "plt.hist(resid, bins=20)\n",
    "plt.title(\"Histogram of Residuals\")\n",
    "plt.show()\n"
   ]
  },
  {
   "cell_type": "markdown",
   "id": "cce649e3-d42c-407c-8084-737399b9b7dc",
   "metadata": {},
   "source": [
    "## Interpretation (write your conclusions below)\n",
    "- Linearity:\n",
    "On paper the model seems perfectly linear because it predicts with no error. In reality, that suggests the model had direct access to information about the target (e.g., predicting today’s close from today’s close). That means the linearity test isn’t really meaningful here.\n",
    "\n",
    "- Homoscedasticity:\n",
    "Residual variance looks almost zero everywhere, so it appears homoscedastic. But again, this is probably because residuals themselves are near zero due to leakage, not because the assumption truly holds.\n",
    "\n",
    "- Normality:\n",
    "With residuals essentially at zero, they don’t follow a distribution at all. You can’t claim normality — they’re degenerate (collapsed at 0).\n",
    "\n",
    "- Independence:\n",
    "Independence can’t be evaluated here. If the model has leaked the target variable, residuals won’t reveal autocorrelation. In a true financial time series, residuals are rarely fully independent.\n",
    "\n",
    "- Which model do you trust and why?:\n",
    "I wouldn’t trust this model. A perfect R² and almost-zero RMSE signals overfitting or data leakage. A more trustworthy model would exclude the target variable or lagged versions that overlap improperly.\n",
    "\n",
    "- Next step you’d try:\n",
    "Redesign the feature set:\n",
    "\n",
    "Remove the raw “close” from predictors if the target is next-day close.\n",
    "Use lagged features only (yesterday’s close, yesterday’s return, rolling averages).\n",
    "Re-run with train/test split and check for realistic R² (< 1).\n",
    "Add residual diagnostic plots to confirm assumptions."
   ]
  }
 ],
 "metadata": {
  "kernelspec": {
   "display_name": "Python 3.11 (mlenv)",
   "language": "python",
   "name": "mlenv"
  },
  "language_info": {
   "codemirror_mode": {
    "name": "ipython",
    "version": 3
   },
   "file_extension": ".py",
   "mimetype": "text/x-python",
   "name": "python",
   "nbconvert_exporter": "python",
   "pygments_lexer": "ipython3",
   "version": "3.11.13"
  }
 },
 "nbformat": 4,
 "nbformat_minor": 5
}
