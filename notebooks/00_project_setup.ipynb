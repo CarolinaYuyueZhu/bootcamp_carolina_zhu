{
 "cells": [
  {
   "cell_type": "code",
   "execution_count": 1,
   "id": "00b2da21-86d8-468a-9640-271a1742da58",
   "metadata": {},
   "outputs": [],
   "source": [
    "# Environment & Config Check"
   ]
  },
  {
   "cell_type": "code",
   "execution_count": 2,
   "id": "21990363-2898-4859-ad28-0854f11cd96d",
   "metadata": {},
   "outputs": [
    {
     "name": "stdout",
     "output_type": "stream",
     "text": [
      "CWD: /Users/yuyuezhu/bootcamp_carolina_zhu/notebooks\n",
      "Added to sys.path: /Users/yuyuezhu/bootcamp_carolina_zhu\n",
      "API_KEY present: True\n",
      "DATA_DIR: ./data\n"
     ]
    }
   ],
   "source": [
    "import os, sys\n",
    "\n",
    "# Show where the kernel thinks we are\n",
    "print(\"CWD:\", os.getcwd())\n",
    "\n",
    "# Ensure the project root (parent of notebooks/) is on sys.path\n",
    "parent = os.path.abspath(\"..\")\n",
    "if parent not in map(os.path.abspath, sys.path):\n",
    "    sys.path.append(parent)\n",
    "    print(\"Added to sys.path:\", parent)\n",
    "\n",
    "# Try the import now\n",
    "from src.config import load_env, get_key\n",
    "\n",
    "# Load environment vars from .env\n",
    "load_env()\n",
    "print(\"API_KEY present:\", get_key(\"API_KEY\") is not None)\n",
    "print(\"DATA_DIR:\", get_key(\"DATA_DIR\"))\n"
   ]
  },
  {
   "cell_type": "code",
   "execution_count": 3,
   "id": "6f02be33-eb48-4567-8987-897d66b2ec27",
   "metadata": {},
   "outputs": [
    {
     "name": "stdout",
     "output_type": "stream",
     "text": [
      "Array + 1: [2 3 4]\n"
     ]
    }
   ],
   "source": [
    "import numpy as np\n",
    "arr = np.array([1, 2, 3])\n",
    "arr_plus_one = arr + 1\n",
    "print(\"Array + 1:\", arr_plus_one)\n"
   ]
  },
  {
   "cell_type": "code",
   "execution_count": 5,
   "id": "c4947e4a-57cf-40de-a065-3182b0501bd7",
   "metadata": {},
   "outputs": [
    {
     "name": "stdout",
     "output_type": "stream",
     "text": [
      "Wrote: data/hello.txt  ->  it works\n"
     ]
    }
   ],
   "source": [
    "from pathlib import Path\n",
    "\n",
    "data_dir = Path(get_key(\"DATA_DIR\") or \"data\")\n",
    "data_dir.mkdir(parents=True, exist_ok=True)\n",
    "\n",
    "p = data_dir / \"hello.txt\"\n",
    "p.write_text(\"it works\")\n",
    "print(\"Wrote:\", p, \" -> \", p.read_text())\n"
   ]
  }
 ],
 "metadata": {
  "kernelspec": {
   "display_name": "Python 3 (ipykernel)",
   "language": "python",
   "name": "python3"
  },
  "language_info": {
   "codemirror_mode": {
    "name": "ipython",
    "version": 3
   },
   "file_extension": ".py",
   "mimetype": "text/x-python",
   "name": "python",
   "nbconvert_exporter": "python",
   "pygments_lexer": "ipython3",
   "version": "3.10.18"
  }
 },
 "nbformat": 4,
 "nbformat_minor": 5
}
